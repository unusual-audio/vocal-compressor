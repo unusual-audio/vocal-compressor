{
 "cells": [
  {
   "cell_type": "code",
   "execution_count": 4,
   "id": "e0aad6e5-e5f7-4774-a9a9-85f3a582e031",
   "metadata": {},
   "outputs": [],
   "source": [
    "import numpy as np\n",
    "FS = 48000"
   ]
  },
  {
   "cell_type": "code",
   "execution_count": 5,
   "id": "59a8b7b3-435b-4bbf-955e-63b39194dccd",
   "metadata": {},
   "outputs": [],
   "source": [
    "def generate_sine_signal(duration, frequency):\n",
    "    x = np.linspace(0, duration, int(duration * FS), endpoint=False)\n",
    "    y = np.sin(2 * np.pi * x * frequency)\n",
    "    return x, y"
   ]
  },
  {
   "cell_type": "code",
   "execution_count": 6,
   "id": "ce88a013-a220-437e-91b9-9a2e381ddf11",
   "metadata": {},
   "outputs": [],
   "source": [
    "test_signal = np.concatenate([\n",
    "    generate_sine_signal(1.0, 1000.0),\n",
    "    generate_sine_signal(1.0, 1000.0),\n",
    "    generate_sine_signal(1.0, 1000.0),\n",
    "])"
   ]
  },
  {
   "cell_type": "code",
   "execution_count": null,
   "id": "077a8604-59ba-4e67-8584-d4e89159097d",
   "metadata": {},
   "outputs": [],
   "source": []
  }
 ],
 "metadata": {
  "kernelspec": {
   "display_name": "Python 3 (ipykernel)",
   "language": "python",
   "name": "python3"
  },
  "language_info": {
   "codemirror_mode": {
    "name": "ipython",
    "version": 3
   },
   "file_extension": ".py",
   "mimetype": "text/x-python",
   "name": "python",
   "nbconvert_exporter": "python",
   "pygments_lexer": "ipython3",
   "version": "3.9.12"
  }
 },
 "nbformat": 4,
 "nbformat_minor": 5
}
